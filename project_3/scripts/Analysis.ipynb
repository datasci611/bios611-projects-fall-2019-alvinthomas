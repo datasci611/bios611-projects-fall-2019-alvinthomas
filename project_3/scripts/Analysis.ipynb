{
 "cells": [
  {
   "cell_type": "markdown",
   "metadata": {},
   "source": [
    "The purpose of this script is to read in and process data from the Urban Ministries of Durham (UMD) shelter."
   ]
  },
  {
   "cell_type": "code",
   "execution_count": 1,
   "metadata": {},
   "outputs": [],
   "source": [
    "import numpy as np\n",
    "import pandas as pd\n",
    "import os"
   ]
  },
  {
   "cell_type": "code",
   "execution_count": 2,
   "metadata": {},
   "outputs": [
    {
     "data": {
      "text/plain": [
       "'/Users/alvin/Documents/GitHub/bios611-projects-fall-2019-alvinthomas/project_3/scripts'"
      ]
     },
     "execution_count": 2,
     "metadata": {},
     "output_type": "execute_result"
    }
   ],
   "source": [
    "c = os.getcwd()\n",
    "c"
   ]
  },
  {
   "cell_type": "code",
   "execution_count": 3,
   "metadata": {},
   "outputs": [
    {
     "name": "stdout",
     "output_type": "stream",
     "text": [
      "Can't change the Current Working Directory\n"
     ]
    }
   ],
   "source": [
    "if os.path.exists(c + '/scripts') :\n",
    "    # Change the current working Directory    \n",
    "    os.chdir(c + '/scripts')\n",
    "else:\n",
    "    print(\"Can't change the Current Working Directory\")   "
   ]
  },
  {
   "cell_type": "code",
   "execution_count": 4,
   "metadata": {},
   "outputs": [
    {
     "data": {
      "text/plain": [
       "'/Users/alvin/Documents/GitHub/bios611-projects-fall-2019-alvinthomas/project_3/scripts'"
      ]
     },
     "execution_count": 4,
     "metadata": {},
     "output_type": "execute_result"
    }
   ],
   "source": [
    "os.getcwd()"
   ]
  },
  {
   "cell_type": "code",
   "execution_count": 5,
   "metadata": {},
   "outputs": [],
   "source": [
    "c2 = os.getcwd()"
   ]
  },
  {
   "cell_type": "markdown",
   "metadata": {},
   "source": [
    "First, read in a dataset that contains demographic information on clients"
   ]
  },
  {
   "cell_type": "code",
   "execution_count": 6,
   "metadata": {},
   "outputs": [
    {
     "data": {
      "text/plain": [
       "['EE Provider ID',\n",
       " 'EE UID',\n",
       " 'Client Unique ID',\n",
       " 'Client ID',\n",
       " 'Client Age at Entry',\n",
       " 'Client Age at Exit',\n",
       " 'Client Gender',\n",
       " 'Client Primary Race',\n",
       " 'Client Ethnicity',\n",
       " 'Client Veteran Status']"
      ]
     },
     "execution_count": 6,
     "metadata": {},
     "output_type": "execute_result"
    }
   ],
   "source": [
    "client = pd.read_csv('../data/CLIENT_191102.tsv', sep='\\t')\n",
    "list(client.columns) "
   ]
  },
  {
   "cell_type": "markdown",
   "metadata": {},
   "source": [
    "Drop columns we do not intend to use."
   ]
  },
  {
   "cell_type": "code",
   "execution_count": 7,
   "metadata": {},
   "outputs": [
    {
     "data": {
      "text/html": [
       "<div>\n",
       "<style scoped>\n",
       "    .dataframe tbody tr th:only-of-type {\n",
       "        vertical-align: middle;\n",
       "    }\n",
       "\n",
       "    .dataframe tbody tr th {\n",
       "        vertical-align: top;\n",
       "    }\n",
       "\n",
       "    .dataframe thead th {\n",
       "        text-align: right;\n",
       "    }\n",
       "</style>\n",
       "<table border=\"1\" class=\"dataframe\">\n",
       "  <thead>\n",
       "    <tr style=\"text-align: right;\">\n",
       "      <th></th>\n",
       "      <th>Client Unique ID</th>\n",
       "      <th>Client ID</th>\n",
       "      <th>Client Age at Entry</th>\n",
       "      <th>Client Age at Exit</th>\n",
       "      <th>Client Gender</th>\n",
       "      <th>Client Primary Race</th>\n",
       "      <th>Client Ethnicity</th>\n",
       "      <th>Client Veteran Status</th>\n",
       "    </tr>\n",
       "  </thead>\n",
       "  <tbody>\n",
       "    <tr>\n",
       "      <td>0</td>\n",
       "      <td>pbkf09291954p610b236</td>\n",
       "      <td>397941</td>\n",
       "      <td>60.0</td>\n",
       "      <td>61.0</td>\n",
       "      <td>Female</td>\n",
       "      <td>White (HUD)</td>\n",
       "      <td>Non-Hispanic/Non-Latino (HUD)</td>\n",
       "      <td>No (HUD)</td>\n",
       "    </tr>\n",
       "    <tr>\n",
       "      <td>1</td>\n",
       "      <td>kdaf01071967k400d635</td>\n",
       "      <td>130335</td>\n",
       "      <td>48.0</td>\n",
       "      <td>48.0</td>\n",
       "      <td>Female</td>\n",
       "      <td>Black or African American (HUD)</td>\n",
       "      <td>Non-Hispanic/Non-Latino (HUD)</td>\n",
       "      <td>No (HUD)</td>\n",
       "    </tr>\n",
       "    <tr>\n",
       "      <td>2</td>\n",
       "      <td>smrf06211973s620m640</td>\n",
       "      <td>188933</td>\n",
       "      <td>42.0</td>\n",
       "      <td>42.0</td>\n",
       "      <td>Female</td>\n",
       "      <td>Black or African American (HUD)</td>\n",
       "      <td>Non-Hispanic/Non-Latino (HUD)</td>\n",
       "      <td>No (HUD)</td>\n",
       "    </tr>\n",
       "    <tr>\n",
       "      <td>3</td>\n",
       "      <td>abrm07251958a416b600</td>\n",
       "      <td>168290</td>\n",
       "      <td>57.0</td>\n",
       "      <td>57.0</td>\n",
       "      <td>Male</td>\n",
       "      <td>White (HUD)</td>\n",
       "      <td>Hispanic/Latino (HUD)</td>\n",
       "      <td>No (HUD)</td>\n",
       "    </tr>\n",
       "    <tr>\n",
       "      <td>4</td>\n",
       "      <td>wbom01251964w450b620</td>\n",
       "      <td>123122</td>\n",
       "      <td>51.0</td>\n",
       "      <td>51.0</td>\n",
       "      <td>Male</td>\n",
       "      <td>White (HUD)</td>\n",
       "      <td>Non-Hispanic/Non-Latino (HUD)</td>\n",
       "      <td>No (HUD)</td>\n",
       "    </tr>\n",
       "    <tr>\n",
       "      <td>...</td>\n",
       "      <td>...</td>\n",
       "      <td>...</td>\n",
       "      <td>...</td>\n",
       "      <td>...</td>\n",
       "      <td>...</td>\n",
       "      <td>...</td>\n",
       "      <td>...</td>\n",
       "      <td>...</td>\n",
       "    </tr>\n",
       "    <tr>\n",
       "      <td>5294</td>\n",
       "      <td>jlpm01021947j520l125</td>\n",
       "      <td>370291</td>\n",
       "      <td>68.0</td>\n",
       "      <td>68.0</td>\n",
       "      <td>Male</td>\n",
       "      <td>Black or African American (HUD)</td>\n",
       "      <td>Non-Hispanic/Non-Latino (HUD)</td>\n",
       "      <td>Yes (HUD)</td>\n",
       "    </tr>\n",
       "    <tr>\n",
       "      <td>5295</td>\n",
       "      <td>clom10111953c430l563</td>\n",
       "      <td>175198</td>\n",
       "      <td>61.0</td>\n",
       "      <td>61.0</td>\n",
       "      <td>Male</td>\n",
       "      <td>Black or African American (HUD)</td>\n",
       "      <td>Non-Hispanic/Non-Latino (HUD)</td>\n",
       "      <td>Yes (HUD)</td>\n",
       "    </tr>\n",
       "    <tr>\n",
       "      <td>5296</td>\n",
       "      <td>htnm05151961h560t550</td>\n",
       "      <td>401978</td>\n",
       "      <td>54.0</td>\n",
       "      <td>54.0</td>\n",
       "      <td>Male</td>\n",
       "      <td>White (HUD)</td>\n",
       "      <td>Non-Hispanic/Non-Latino (HUD)</td>\n",
       "      <td>Yes (HUD)</td>\n",
       "    </tr>\n",
       "    <tr>\n",
       "      <td>5297</td>\n",
       "      <td>osrm07241965o632s645</td>\n",
       "      <td>401495</td>\n",
       "      <td>49.0</td>\n",
       "      <td>50.0</td>\n",
       "      <td>Male</td>\n",
       "      <td>Black or African American (HUD)</td>\n",
       "      <td>Non-Hispanic/Non-Latino (HUD)</td>\n",
       "      <td>Yes (HUD)</td>\n",
       "    </tr>\n",
       "    <tr>\n",
       "      <td>5298</td>\n",
       "      <td>sadm04041963s310a536</td>\n",
       "      <td>403361</td>\n",
       "      <td>52.0</td>\n",
       "      <td>52.0</td>\n",
       "      <td>Male</td>\n",
       "      <td>Black or African American (HUD)</td>\n",
       "      <td>Non-Hispanic/Non-Latino (HUD)</td>\n",
       "      <td>Yes (HUD)</td>\n",
       "    </tr>\n",
       "  </tbody>\n",
       "</table>\n",
       "<p>5299 rows × 8 columns</p>\n",
       "</div>"
      ],
      "text/plain": [
       "          Client Unique ID  Client ID  Client Age at Entry  \\\n",
       "0     pbkf09291954p610b236     397941                 60.0   \n",
       "1     kdaf01071967k400d635     130335                 48.0   \n",
       "2     smrf06211973s620m640     188933                 42.0   \n",
       "3     abrm07251958a416b600     168290                 57.0   \n",
       "4     wbom01251964w450b620     123122                 51.0   \n",
       "...                    ...        ...                  ...   \n",
       "5294  jlpm01021947j520l125     370291                 68.0   \n",
       "5295  clom10111953c430l563     175198                 61.0   \n",
       "5296  htnm05151961h560t550     401978                 54.0   \n",
       "5297  osrm07241965o632s645     401495                 49.0   \n",
       "5298  sadm04041963s310a536     403361                 52.0   \n",
       "\n",
       "      Client Age at Exit Client Gender              Client Primary Race  \\\n",
       "0                   61.0        Female                      White (HUD)   \n",
       "1                   48.0        Female  Black or African American (HUD)   \n",
       "2                   42.0        Female  Black or African American (HUD)   \n",
       "3                   57.0          Male                      White (HUD)   \n",
       "4                   51.0          Male                      White (HUD)   \n",
       "...                  ...           ...                              ...   \n",
       "5294                68.0          Male  Black or African American (HUD)   \n",
       "5295                61.0          Male  Black or African American (HUD)   \n",
       "5296                54.0          Male                      White (HUD)   \n",
       "5297                50.0          Male  Black or African American (HUD)   \n",
       "5298                52.0          Male  Black or African American (HUD)   \n",
       "\n",
       "                   Client Ethnicity Client Veteran Status  \n",
       "0     Non-Hispanic/Non-Latino (HUD)              No (HUD)  \n",
       "1     Non-Hispanic/Non-Latino (HUD)              No (HUD)  \n",
       "2     Non-Hispanic/Non-Latino (HUD)              No (HUD)  \n",
       "3             Hispanic/Latino (HUD)              No (HUD)  \n",
       "4     Non-Hispanic/Non-Latino (HUD)              No (HUD)  \n",
       "...                             ...                   ...  \n",
       "5294  Non-Hispanic/Non-Latino (HUD)             Yes (HUD)  \n",
       "5295  Non-Hispanic/Non-Latino (HUD)             Yes (HUD)  \n",
       "5296  Non-Hispanic/Non-Latino (HUD)             Yes (HUD)  \n",
       "5297  Non-Hispanic/Non-Latino (HUD)             Yes (HUD)  \n",
       "5298  Non-Hispanic/Non-Latino (HUD)             Yes (HUD)  \n",
       "\n",
       "[5299 rows x 8 columns]"
      ]
     },
     "execution_count": 7,
     "metadata": {},
     "output_type": "execute_result"
    }
   ],
   "source": [
    "client.drop(['EE Provider ID', 'EE UID'], axis=1)"
   ]
  },
  {
   "cell_type": "markdown",
   "metadata": {},
   "source": [
    "Next, read in data about client history."
   ]
  },
  {
   "cell_type": "code",
   "execution_count": 8,
   "metadata": {},
   "outputs": [
    {
     "data": {
      "text/plain": [
       "['EE Provider ID',\n",
       " 'Entry Exit Provider Program Type Code',\n",
       " 'EE UID',\n",
       " 'Client Unique ID',\n",
       " 'Client ID',\n",
       " 'Client Location(4378)',\n",
       " 'Zip Code (of Last Permanent Address, if known)(1932)',\n",
       " 'Relationship to Head of Household(4374)',\n",
       " 'Prior Living Situation(43)',\n",
       " 'Length of Stay in Previous Place(1934)',\n",
       " 'Did you stay less than 7 nights?(5164)',\n",
       " 'Did you stay less than 90 days?(5163)',\n",
       " 'On the night before did you stay on the streets, ES or SH?(5165)',\n",
       " 'Regardless of where they stayed last night - Number of times the client has been on the streets, in ES, or SH in the past three years including today(5167)',\n",
       " 'Total number of months homeless on the street, in ES or SH in the past three years(5168)',\n",
       " 'Housing Status(2703)',\n",
       " 'Does the client have a disabling condition?(1935)',\n",
       " 'Covered by Health Insurance(4376)',\n",
       " 'Domestic violence victim/survivor(341)',\n",
       " 'If yes for Domestic violence victim/survivor, when experience occurred(1917)',\n",
       " 'Date of Birth(893)']"
      ]
     },
     "execution_count": 8,
     "metadata": {},
     "output_type": "execute_result"
    }
   ],
   "source": [
    "entry = pd.read_csv('../data/EE_UDES_191102.tsv', sep='\\t')\n",
    "list(entry.columns) "
   ]
  },
  {
   "cell_type": "code",
   "execution_count": 9,
   "metadata": {},
   "outputs": [],
   "source": [
    "entry = entry.filter(items=['Client Unique ID', 'Zip Code (of Last Permanent Address, if known)(1932)', 'Housing Status(2703)', 'Does the client have a disabling condition?(1935)', 'Covered by Health Insurance(4376)', 'Date of Birth(893)'])"
   ]
  },
  {
   "cell_type": "markdown",
   "metadata": {},
   "source": [
    "Merge client demographics and history."
   ]
  },
  {
   "cell_type": "code",
   "execution_count": 10,
   "metadata": {},
   "outputs": [
    {
     "data": {
      "text/html": [
       "<div>\n",
       "<style scoped>\n",
       "    .dataframe tbody tr th:only-of-type {\n",
       "        vertical-align: middle;\n",
       "    }\n",
       "\n",
       "    .dataframe tbody tr th {\n",
       "        vertical-align: top;\n",
       "    }\n",
       "\n",
       "    .dataframe thead th {\n",
       "        text-align: right;\n",
       "    }\n",
       "</style>\n",
       "<table border=\"1\" class=\"dataframe\">\n",
       "  <thead>\n",
       "    <tr style=\"text-align: right;\">\n",
       "      <th></th>\n",
       "      <th>EE Provider ID</th>\n",
       "      <th>EE UID</th>\n",
       "      <th>Client Unique ID</th>\n",
       "      <th>Client ID</th>\n",
       "      <th>Client Age at Entry</th>\n",
       "      <th>Client Age at Exit</th>\n",
       "      <th>Client Gender</th>\n",
       "      <th>Client Primary Race</th>\n",
       "      <th>Client Ethnicity</th>\n",
       "      <th>Client Veteran Status</th>\n",
       "      <th>Zip Code (of Last Permanent Address, if known)(1932)</th>\n",
       "      <th>Housing Status(2703)</th>\n",
       "      <th>Does the client have a disabling condition?(1935)</th>\n",
       "      <th>Covered by Health Insurance(4376)</th>\n",
       "      <th>Date of Birth(893)</th>\n",
       "    </tr>\n",
       "  </thead>\n",
       "  <tbody>\n",
       "    <tr>\n",
       "      <td>0</td>\n",
       "      <td>Urban Ministries of Durham - Durham County - S...</td>\n",
       "      <td>687901</td>\n",
       "      <td>pbkf09291954p610b236</td>\n",
       "      <td>397941</td>\n",
       "      <td>60.0</td>\n",
       "      <td>61.0</td>\n",
       "      <td>Female</td>\n",
       "      <td>White (HUD)</td>\n",
       "      <td>Non-Hispanic/Non-Latino (HUD)</td>\n",
       "      <td>No (HUD)</td>\n",
       "      <td>27701</td>\n",
       "      <td>Category 1 - Homeless (HUD)</td>\n",
       "      <td>Yes (HUD)</td>\n",
       "      <td>Yes (HUD)</td>\n",
       "      <td>9/29/1954</td>\n",
       "    </tr>\n",
       "    <tr>\n",
       "      <td>1</td>\n",
       "      <td>Urban Ministries of Durham - Durham County - S...</td>\n",
       "      <td>687901</td>\n",
       "      <td>pbkf09291954p610b236</td>\n",
       "      <td>397941</td>\n",
       "      <td>60.0</td>\n",
       "      <td>61.0</td>\n",
       "      <td>Female</td>\n",
       "      <td>White (HUD)</td>\n",
       "      <td>Non-Hispanic/Non-Latino (HUD)</td>\n",
       "      <td>No (HUD)</td>\n",
       "      <td>NaN</td>\n",
       "      <td>Category 1 - Homeless (HUD)</td>\n",
       "      <td>Yes (HUD)</td>\n",
       "      <td>Yes (HUD)</td>\n",
       "      <td>9/29/1954</td>\n",
       "    </tr>\n",
       "    <tr>\n",
       "      <td>2</td>\n",
       "      <td>Urban Ministries of Durham - Durham County - S...</td>\n",
       "      <td>687901</td>\n",
       "      <td>pbkf09291954p610b236</td>\n",
       "      <td>397941</td>\n",
       "      <td>60.0</td>\n",
       "      <td>61.0</td>\n",
       "      <td>Female</td>\n",
       "      <td>White (HUD)</td>\n",
       "      <td>Non-Hispanic/Non-Latino (HUD)</td>\n",
       "      <td>No (HUD)</td>\n",
       "      <td>NaN</td>\n",
       "      <td>Category 1 - Homeless (HUD)</td>\n",
       "      <td>Yes (HUD)</td>\n",
       "      <td>Yes (HUD)</td>\n",
       "      <td>9/29/1954</td>\n",
       "    </tr>\n",
       "    <tr>\n",
       "      <td>3</td>\n",
       "      <td>Urban Ministries of Durham - Durham County - S...</td>\n",
       "      <td>687901</td>\n",
       "      <td>pbkf09291954p610b236</td>\n",
       "      <td>397941</td>\n",
       "      <td>60.0</td>\n",
       "      <td>61.0</td>\n",
       "      <td>Female</td>\n",
       "      <td>White (HUD)</td>\n",
       "      <td>Non-Hispanic/Non-Latino (HUD)</td>\n",
       "      <td>No (HUD)</td>\n",
       "      <td>27701</td>\n",
       "      <td>Category 1 - Homeless (HUD)</td>\n",
       "      <td>Yes (HUD)</td>\n",
       "      <td>Yes (HUD)</td>\n",
       "      <td>9/29/1954</td>\n",
       "    </tr>\n",
       "    <tr>\n",
       "      <td>4</td>\n",
       "      <td>XXXClosed2015 Urban Ministries of Durham- Durh...</td>\n",
       "      <td>658801</td>\n",
       "      <td>pbkf09291954p610b236</td>\n",
       "      <td>397941</td>\n",
       "      <td>60.0</td>\n",
       "      <td>60.0</td>\n",
       "      <td>Female</td>\n",
       "      <td>White (HUD)</td>\n",
       "      <td>Non-Hispanic/Non-Latino (HUD)</td>\n",
       "      <td>No (HUD)</td>\n",
       "      <td>27701</td>\n",
       "      <td>Category 1 - Homeless (HUD)</td>\n",
       "      <td>Yes (HUD)</td>\n",
       "      <td>Yes (HUD)</td>\n",
       "      <td>9/29/1954</td>\n",
       "    </tr>\n",
       "  </tbody>\n",
       "</table>\n",
       "</div>"
      ],
      "text/plain": [
       "                                      EE Provider ID  EE UID  \\\n",
       "0  Urban Ministries of Durham - Durham County - S...  687901   \n",
       "1  Urban Ministries of Durham - Durham County - S...  687901   \n",
       "2  Urban Ministries of Durham - Durham County - S...  687901   \n",
       "3  Urban Ministries of Durham - Durham County - S...  687901   \n",
       "4  XXXClosed2015 Urban Ministries of Durham- Durh...  658801   \n",
       "\n",
       "       Client Unique ID  Client ID  Client Age at Entry  Client Age at Exit  \\\n",
       "0  pbkf09291954p610b236     397941                 60.0                61.0   \n",
       "1  pbkf09291954p610b236     397941                 60.0                61.0   \n",
       "2  pbkf09291954p610b236     397941                 60.0                61.0   \n",
       "3  pbkf09291954p610b236     397941                 60.0                61.0   \n",
       "4  pbkf09291954p610b236     397941                 60.0                60.0   \n",
       "\n",
       "  Client Gender Client Primary Race               Client Ethnicity  \\\n",
       "0        Female         White (HUD)  Non-Hispanic/Non-Latino (HUD)   \n",
       "1        Female         White (HUD)  Non-Hispanic/Non-Latino (HUD)   \n",
       "2        Female         White (HUD)  Non-Hispanic/Non-Latino (HUD)   \n",
       "3        Female         White (HUD)  Non-Hispanic/Non-Latino (HUD)   \n",
       "4        Female         White (HUD)  Non-Hispanic/Non-Latino (HUD)   \n",
       "\n",
       "  Client Veteran Status Zip Code (of Last Permanent Address, if known)(1932)  \\\n",
       "0              No (HUD)                                              27701     \n",
       "1              No (HUD)                                                NaN     \n",
       "2              No (HUD)                                                NaN     \n",
       "3              No (HUD)                                              27701     \n",
       "4              No (HUD)                                              27701     \n",
       "\n",
       "          Housing Status(2703)  \\\n",
       "0  Category 1 - Homeless (HUD)   \n",
       "1  Category 1 - Homeless (HUD)   \n",
       "2  Category 1 - Homeless (HUD)   \n",
       "3  Category 1 - Homeless (HUD)   \n",
       "4  Category 1 - Homeless (HUD)   \n",
       "\n",
       "  Does the client have a disabling condition?(1935)  \\\n",
       "0                                         Yes (HUD)   \n",
       "1                                         Yes (HUD)   \n",
       "2                                         Yes (HUD)   \n",
       "3                                         Yes (HUD)   \n",
       "4                                         Yes (HUD)   \n",
       "\n",
       "  Covered by Health Insurance(4376) Date of Birth(893)  \n",
       "0                         Yes (HUD)          9/29/1954  \n",
       "1                         Yes (HUD)          9/29/1954  \n",
       "2                         Yes (HUD)          9/29/1954  \n",
       "3                         Yes (HUD)          9/29/1954  \n",
       "4                         Yes (HUD)          9/29/1954  "
      ]
     },
     "execution_count": 10,
     "metadata": {},
     "output_type": "execute_result"
    }
   ],
   "source": [
    "new_df = client.merge(entry, left_on='Client Unique ID', right_on='Client Unique ID')\n",
    "new_df.head()"
   ]
  },
  {
   "cell_type": "markdown",
   "metadata": {},
   "source": [
    "The next dataset contains information on the current visit."
   ]
  },
  {
   "cell_type": "code",
   "execution_count": 11,
   "metadata": {},
   "outputs": [
    {
     "data": {
      "text/plain": [
       "['EE Provider ID',\n",
       " 'EE UID',\n",
       " 'Client Unique ID',\n",
       " 'Client ID',\n",
       " 'Entry Exit Group Id',\n",
       " 'Entry Exit Household Id',\n",
       " 'Unnamed: 6',\n",
       " 'Entry Date',\n",
       " 'Housing Move-in Date(5584)',\n",
       " 'Exit Date',\n",
       " 'Destination',\n",
       " 'Reason for Leaving',\n",
       " 'Entry Exit Type',\n",
       " 'Entry Exit Date Added',\n",
       " 'Entry Exit Date Updated']"
      ]
     },
     "execution_count": 11,
     "metadata": {},
     "output_type": "execute_result"
    }
   ],
   "source": [
    "visit = pd.read_csv('../data/ENTRY_EXIT_191102.tsv',sep='\\t')\n",
    "list(visit.columns) "
   ]
  },
  {
   "cell_type": "code",
   "execution_count": 12,
   "metadata": {},
   "outputs": [
    {
     "data": {
      "text/plain": [
       "['Client Unique ID', 'Entry Date', 'Exit Date', 'Reason for Leaving']"
      ]
     },
     "execution_count": 12,
     "metadata": {},
     "output_type": "execute_result"
    }
   ],
   "source": [
    "visit = visit.drop(['Client ID','EE Provider ID', 'EE UID','Entry Exit Group Id','Entry Exit Household Id', 'Unnamed: 6','Housing Move-in Date(5584)','Destination','Entry Exit Type','Entry Exit Date Added','Entry Exit Date Updated'], axis=1)\n",
    "list(visit.columns) "
   ]
  },
  {
   "cell_type": "markdown",
   "metadata": {},
   "source": [
    "We will use date times to estimate the length of the visit"
   ]
  },
  {
   "cell_type": "code",
   "execution_count": 13,
   "metadata": {},
   "outputs": [],
   "source": [
    "visit['Entry'] =  pd.to_datetime(visit['Entry Date'], format='%m/%d/%Y')\n",
    "visit['Exit'] =  pd.to_datetime(visit['Exit Date'], format='%m/%d/%Y')\n",
    "visit['Total Nights'] = visit['Exit'] - visit['Entry']  # in days"
   ]
  },
  {
   "cell_type": "code",
   "execution_count": 14,
   "metadata": {},
   "outputs": [
    {
     "data": {
      "text/plain": [
       "0       331.0\n",
       "1        16.0\n",
       "2        35.0\n",
       "3       205.0\n",
       "4         9.0\n",
       "        ...  \n",
       "5294     29.0\n",
       "5295     34.0\n",
       "5296     18.0\n",
       "5297     44.0\n",
       "5298     24.0\n",
       "Name: Total Nights, Length: 5299, dtype: float64"
      ]
     },
     "execution_count": 14,
     "metadata": {},
     "output_type": "execute_result"
    }
   ],
   "source": [
    "visit[\"Total Nights\"] = visit[\"Total Nights\"].apply(lambda row: row.days)\n",
    "visit[\"Total Nights\"]"
   ]
  },
  {
   "cell_type": "code",
   "execution_count": 15,
   "metadata": {},
   "outputs": [],
   "source": [
    "visit = visit.drop(['Entry Date','Exit Date'], axis=1)"
   ]
  },
  {
   "cell_type": "code",
   "execution_count": 16,
   "metadata": {},
   "outputs": [
    {
     "data": {
      "text/html": [
       "<div>\n",
       "<style scoped>\n",
       "    .dataframe tbody tr th:only-of-type {\n",
       "        vertical-align: middle;\n",
       "    }\n",
       "\n",
       "    .dataframe tbody tr th {\n",
       "        vertical-align: top;\n",
       "    }\n",
       "\n",
       "    .dataframe thead th {\n",
       "        text-align: right;\n",
       "    }\n",
       "</style>\n",
       "<table border=\"1\" class=\"dataframe\">\n",
       "  <thead>\n",
       "    <tr style=\"text-align: right;\">\n",
       "      <th></th>\n",
       "      <th>EE Provider ID</th>\n",
       "      <th>EE UID</th>\n",
       "      <th>Client Unique ID</th>\n",
       "      <th>Client ID</th>\n",
       "      <th>Client Age at Entry</th>\n",
       "      <th>Client Age at Exit</th>\n",
       "      <th>Client Gender</th>\n",
       "      <th>Client Primary Race</th>\n",
       "      <th>Client Ethnicity</th>\n",
       "      <th>Client Veteran Status</th>\n",
       "      <th>Zip Code (of Last Permanent Address, if known)(1932)</th>\n",
       "      <th>Housing Status(2703)</th>\n",
       "      <th>Does the client have a disabling condition?(1935)</th>\n",
       "      <th>Covered by Health Insurance(4376)</th>\n",
       "      <th>Date of Birth(893)</th>\n",
       "      <th>Reason for Leaving</th>\n",
       "      <th>Entry</th>\n",
       "      <th>Exit</th>\n",
       "      <th>Total Nights</th>\n",
       "    </tr>\n",
       "  </thead>\n",
       "  <tbody>\n",
       "    <tr>\n",
       "      <td>0</td>\n",
       "      <td>Urban Ministries of Durham - Durham County - S...</td>\n",
       "      <td>687901</td>\n",
       "      <td>pbkf09291954p610b236</td>\n",
       "      <td>397941</td>\n",
       "      <td>60.0</td>\n",
       "      <td>61.0</td>\n",
       "      <td>Female</td>\n",
       "      <td>White (HUD)</td>\n",
       "      <td>Non-Hispanic/Non-Latino (HUD)</td>\n",
       "      <td>No (HUD)</td>\n",
       "      <td>27701</td>\n",
       "      <td>Category 1 - Homeless (HUD)</td>\n",
       "      <td>Yes (HUD)</td>\n",
       "      <td>Yes (HUD)</td>\n",
       "      <td>9/29/1954</td>\n",
       "      <td>Completed program</td>\n",
       "      <td>2015-08-15</td>\n",
       "      <td>2016-07-11</td>\n",
       "      <td>331.0</td>\n",
       "    </tr>\n",
       "    <tr>\n",
       "      <td>1</td>\n",
       "      <td>Urban Ministries of Durham - Durham County - S...</td>\n",
       "      <td>687901</td>\n",
       "      <td>pbkf09291954p610b236</td>\n",
       "      <td>397941</td>\n",
       "      <td>60.0</td>\n",
       "      <td>61.0</td>\n",
       "      <td>Female</td>\n",
       "      <td>White (HUD)</td>\n",
       "      <td>Non-Hispanic/Non-Latino (HUD)</td>\n",
       "      <td>No (HUD)</td>\n",
       "      <td>27701</td>\n",
       "      <td>Category 1 - Homeless (HUD)</td>\n",
       "      <td>Yes (HUD)</td>\n",
       "      <td>Yes (HUD)</td>\n",
       "      <td>9/29/1954</td>\n",
       "      <td>Other</td>\n",
       "      <td>2015-04-20</td>\n",
       "      <td>2015-04-26</td>\n",
       "      <td>6.0</td>\n",
       "    </tr>\n",
       "    <tr>\n",
       "      <td>2</td>\n",
       "      <td>Urban Ministries of Durham - Durham County - S...</td>\n",
       "      <td>687901</td>\n",
       "      <td>pbkf09291954p610b236</td>\n",
       "      <td>397941</td>\n",
       "      <td>60.0</td>\n",
       "      <td>61.0</td>\n",
       "      <td>Female</td>\n",
       "      <td>White (HUD)</td>\n",
       "      <td>Non-Hispanic/Non-Latino (HUD)</td>\n",
       "      <td>No (HUD)</td>\n",
       "      <td>27701</td>\n",
       "      <td>Category 1 - Homeless (HUD)</td>\n",
       "      <td>Yes (HUD)</td>\n",
       "      <td>Yes (HUD)</td>\n",
       "      <td>9/29/1954</td>\n",
       "      <td>Completed program</td>\n",
       "      <td>2015-05-04</td>\n",
       "      <td>2015-06-09</td>\n",
       "      <td>36.0</td>\n",
       "    </tr>\n",
       "    <tr>\n",
       "      <td>3</td>\n",
       "      <td>Urban Ministries of Durham - Durham County - S...</td>\n",
       "      <td>687901</td>\n",
       "      <td>pbkf09291954p610b236</td>\n",
       "      <td>397941</td>\n",
       "      <td>60.0</td>\n",
       "      <td>61.0</td>\n",
       "      <td>Female</td>\n",
       "      <td>White (HUD)</td>\n",
       "      <td>Non-Hispanic/Non-Latino (HUD)</td>\n",
       "      <td>No (HUD)</td>\n",
       "      <td>27701</td>\n",
       "      <td>Category 1 - Homeless (HUD)</td>\n",
       "      <td>Yes (HUD)</td>\n",
       "      <td>Yes (HUD)</td>\n",
       "      <td>9/29/1954</td>\n",
       "      <td>Other</td>\n",
       "      <td>2015-06-09</td>\n",
       "      <td>2015-08-14</td>\n",
       "      <td>66.0</td>\n",
       "    </tr>\n",
       "    <tr>\n",
       "      <td>4</td>\n",
       "      <td>Urban Ministries of Durham - Durham County - S...</td>\n",
       "      <td>687901</td>\n",
       "      <td>pbkf09291954p610b236</td>\n",
       "      <td>397941</td>\n",
       "      <td>60.0</td>\n",
       "      <td>61.0</td>\n",
       "      <td>Female</td>\n",
       "      <td>White (HUD)</td>\n",
       "      <td>Non-Hispanic/Non-Latino (HUD)</td>\n",
       "      <td>No (HUD)</td>\n",
       "      <td>NaN</td>\n",
       "      <td>Category 1 - Homeless (HUD)</td>\n",
       "      <td>Yes (HUD)</td>\n",
       "      <td>Yes (HUD)</td>\n",
       "      <td>9/29/1954</td>\n",
       "      <td>Completed program</td>\n",
       "      <td>2015-08-15</td>\n",
       "      <td>2016-07-11</td>\n",
       "      <td>331.0</td>\n",
       "    </tr>\n",
       "  </tbody>\n",
       "</table>\n",
       "</div>"
      ],
      "text/plain": [
       "                                      EE Provider ID  EE UID  \\\n",
       "0  Urban Ministries of Durham - Durham County - S...  687901   \n",
       "1  Urban Ministries of Durham - Durham County - S...  687901   \n",
       "2  Urban Ministries of Durham - Durham County - S...  687901   \n",
       "3  Urban Ministries of Durham - Durham County - S...  687901   \n",
       "4  Urban Ministries of Durham - Durham County - S...  687901   \n",
       "\n",
       "       Client Unique ID  Client ID  Client Age at Entry  Client Age at Exit  \\\n",
       "0  pbkf09291954p610b236     397941                 60.0                61.0   \n",
       "1  pbkf09291954p610b236     397941                 60.0                61.0   \n",
       "2  pbkf09291954p610b236     397941                 60.0                61.0   \n",
       "3  pbkf09291954p610b236     397941                 60.0                61.0   \n",
       "4  pbkf09291954p610b236     397941                 60.0                61.0   \n",
       "\n",
       "  Client Gender Client Primary Race               Client Ethnicity  \\\n",
       "0        Female         White (HUD)  Non-Hispanic/Non-Latino (HUD)   \n",
       "1        Female         White (HUD)  Non-Hispanic/Non-Latino (HUD)   \n",
       "2        Female         White (HUD)  Non-Hispanic/Non-Latino (HUD)   \n",
       "3        Female         White (HUD)  Non-Hispanic/Non-Latino (HUD)   \n",
       "4        Female         White (HUD)  Non-Hispanic/Non-Latino (HUD)   \n",
       "\n",
       "  Client Veteran Status Zip Code (of Last Permanent Address, if known)(1932)  \\\n",
       "0              No (HUD)                                              27701     \n",
       "1              No (HUD)                                              27701     \n",
       "2              No (HUD)                                              27701     \n",
       "3              No (HUD)                                              27701     \n",
       "4              No (HUD)                                                NaN     \n",
       "\n",
       "          Housing Status(2703)  \\\n",
       "0  Category 1 - Homeless (HUD)   \n",
       "1  Category 1 - Homeless (HUD)   \n",
       "2  Category 1 - Homeless (HUD)   \n",
       "3  Category 1 - Homeless (HUD)   \n",
       "4  Category 1 - Homeless (HUD)   \n",
       "\n",
       "  Does the client have a disabling condition?(1935)  \\\n",
       "0                                         Yes (HUD)   \n",
       "1                                         Yes (HUD)   \n",
       "2                                         Yes (HUD)   \n",
       "3                                         Yes (HUD)   \n",
       "4                                         Yes (HUD)   \n",
       "\n",
       "  Covered by Health Insurance(4376) Date of Birth(893) Reason for Leaving  \\\n",
       "0                         Yes (HUD)          9/29/1954  Completed program   \n",
       "1                         Yes (HUD)          9/29/1954              Other   \n",
       "2                         Yes (HUD)          9/29/1954  Completed program   \n",
       "3                         Yes (HUD)          9/29/1954              Other   \n",
       "4                         Yes (HUD)          9/29/1954  Completed program   \n",
       "\n",
       "       Entry       Exit  Total Nights  \n",
       "0 2015-08-15 2016-07-11         331.0  \n",
       "1 2015-04-20 2015-04-26           6.0  \n",
       "2 2015-05-04 2015-06-09          36.0  \n",
       "3 2015-06-09 2015-08-14          66.0  \n",
       "4 2015-08-15 2016-07-11         331.0  "
      ]
     },
     "execution_count": 16,
     "metadata": {},
     "output_type": "execute_result"
    }
   ],
   "source": [
    "new_df = new_df.merge(visit, left_on='Client Unique ID', right_on='Client Unique ID')\n",
    "new_df.head()"
   ]
  },
  {
   "cell_type": "markdown",
   "metadata": {},
   "source": [
    "This is our final product, ready for R."
   ]
  },
  {
   "cell_type": "code",
   "execution_count": 17,
   "metadata": {},
   "outputs": [],
   "source": [
    "new_df.to_csv('../data/for_r.csv', encoding='utf-8', index=False)"
   ]
  },
  {
   "cell_type": "code",
   "execution_count": 18,
   "metadata": {},
   "outputs": [
    {
     "data": {
      "text/plain": [
       "'/Users/alvin/Documents/GitHub/bios611-projects-fall-2019-alvinthomas/project_3'"
      ]
     },
     "execution_count": 18,
     "metadata": {},
     "output_type": "execute_result"
    }
   ],
   "source": [
    "c3 = c2[:-8]\n",
    "c3"
   ]
  },
  {
   "cell_type": "code",
   "execution_count": 19,
   "metadata": {},
   "outputs": [],
   "source": [
    "os.chdir(c3)"
   ]
  }
 ],
 "metadata": {
  "kernelspec": {
   "display_name": "Python 3",
   "language": "python",
   "name": "python3"
  },
  "language_info": {
   "codemirror_mode": {
    "name": "ipython",
    "version": 3
   },
   "file_extension": ".py",
   "mimetype": "text/x-python",
   "name": "python",
   "nbconvert_exporter": "python",
   "pygments_lexer": "ipython3",
   "version": "3.7.4"
  }
 },
 "nbformat": 4,
 "nbformat_minor": 4
}
